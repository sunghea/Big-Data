{
  "cells": [
    {
      "cell_type": "code",
      "execution_count": 1,
      "metadata": {
        "colab": {
          "base_uri": "https://localhost:8080/"
        },
        "id": "sw2Jr5lXFWIH",
        "outputId": "22c87c8c-e48b-460f-be91-a266612db3ce"
      },
      "outputs": [
        {
          "output_type": "stream",
          "name": "stdout",
          "text": [
            "\r0% [Working]\r            \rGet:1 http://security.ubuntu.com/ubuntu jammy-security InRelease [110 kB]\n",
            "\r0% [Waiting for headers] [1 InRelease 14.2 kB/110 kB 13%] [Connected to cloud.r-project.org (52.85.1\r                                                                                                    \rHit:2 http://archive.ubuntu.com/ubuntu jammy InRelease\n",
            "\r0% [1 InRelease 110 kB/110 kB 100%] [Connected to cloud.r-project.org (52.85.151.129)] [Connecting t\r                                                                                                    \rGet:3 http://archive.ubuntu.com/ubuntu jammy-updates InRelease [119 kB]\n",
            "\r                                                                                                    \rHit:4 http://archive.ubuntu.com/ubuntu jammy-backports InRelease\n",
            "\r                                                                                                    \rGet:5 https://cloud.r-project.org/bin/linux/ubuntu jammy-cran40/ InRelease [3,626 B]\n",
            "Get:6 https://developer.download.nvidia.com/compute/cuda/repos/ubuntu2204/x86_64  InRelease [1,581 B]\n",
            "Hit:7 https://ppa.launchpadcontent.net/c2d4u.team/c2d4u4.0+/ubuntu jammy InRelease\n",
            "Get:8 https://ppa.launchpadcontent.net/deadsnakes/ppa/ubuntu jammy InRelease [18.1 kB]\n",
            "Hit:9 https://ppa.launchpadcontent.net/graphics-drivers/ppa/ubuntu jammy InRelease\n",
            "Get:10 http://archive.ubuntu.com/ubuntu jammy-updates/multiverse amd64 Packages [61.3 kB]\n",
            "Get:11 http://archive.ubuntu.com/ubuntu jammy-updates/main amd64 Packages [1,974 kB]\n",
            "Hit:12 https://ppa.launchpadcontent.net/ubuntugis/ppa/ubuntu jammy InRelease\n",
            "Get:13 http://archive.ubuntu.com/ubuntu jammy-updates/universe amd64 Packages [1,375 kB]\n",
            "Get:14 http://archive.ubuntu.com/ubuntu jammy-updates/restricted amd64 Packages [2,176 kB]\n",
            "Get:15 http://security.ubuntu.com/ubuntu jammy-security/restricted amd64 Packages [2,135 kB]\n",
            "Get:16 http://security.ubuntu.com/ubuntu jammy-security/universe amd64 Packages [1,082 kB]\n",
            "Get:17 http://security.ubuntu.com/ubuntu jammy-security/main amd64 Packages [1,691 kB]\n",
            "Get:18 http://security.ubuntu.com/ubuntu jammy-security/multiverse amd64 Packages [44.7 kB]\n",
            "Get:19 https://developer.download.nvidia.com/compute/cuda/repos/ubuntu2204/x86_64  Packages [808 kB]\n",
            "Get:20 https://ppa.launchpadcontent.net/deadsnakes/ppa/ubuntu jammy/main amd64 Packages [28.2 kB]\n",
            "Fetched 11.6 MB in 4s (3,123 kB/s)\n",
            "Reading package lists... Done\n"
          ]
        }
      ],
      "source": [
        "import os\n",
        "# Find the latest version of spark 3.x  from https://downloads.apache.org/spark/ and enter as the spark version\n",
        "# For example:\n",
        "# spark_version = 'spark-3.5.1'\n",
        "spark_version = 'spark-3.5.1'\n",
        "os.environ['SPARK_VERSION']=spark_version\n",
        "\n",
        "# Install Spark and Java\n",
        "!apt-get update\n",
        "!apt-get install openjdk-11-jdk-headless -qq > /dev/null\n",
        "!wget -q https://downloads.apache.org/spark/$SPARK_VERSION/$SPARK_VERSION-bin-hadoop3.tgz\n",
        "!tar xf $SPARK_VERSION-bin-hadoop3.tgz\n",
        "!pip install -q findspark\n",
        "\n",
        "# Set Environment Variables\n",
        "os.environ[\"JAVA_HOME\"] = \"/usr/lib/jvm/java-11-openjdk-amd64\"\n",
        "os.environ[\"SPARK_HOME\"] = f\"/content/{spark_version}-bin-hadoop3\"\n",
        "\n",
        "# Start a SparkSession\n",
        "import findspark\n",
        "findspark.init()\n"
      ]
    },
    {
      "cell_type": "code",
      "execution_count": 2,
      "metadata": {
        "id": "YPVEwydNFZss"
      },
      "outputs": [],
      "source": [
        "# Import packages\n",
        "from pyspark.sql import SparkSession\n",
        "from pyspark.sql import Row\n",
        "from pyspark.sql.types import StructType,StructField,StringType, DateType,IntegerType\n",
        "\n",
        "# Create a SparkSession\n",
        "spark = SparkSession.builder.appName(\"SparkSQL\").getOrCreate()\n"
      ]
    },
    {
      "cell_type": "code",
      "execution_count": 3,
      "metadata": {
        "colab": {
          "base_uri": "https://localhost:8080/"
        },
        "id": "QNnoYbEqFh6W",
        "outputId": "dad2a4a1-005f-4163-fcc0-228183786484"
      },
      "outputs": [
        {
          "output_type": "stream",
          "name": "stdout",
          "text": [
            "+---+--------------------+---+---+------+------+--------------+---+-----------+----+------+-----------+--------------------+--------------------+-----+\n",
            "| ID|                Name|Sex|Age|Height|Weight|          Team|NOC|      Games|Year|Season|       City|               Sport|               Event|Medal|\n",
            "+---+--------------------+---+---+------+------+--------------+---+-----------+----+------+-----------+--------------------+--------------------+-----+\n",
            "|  1|           A Dijiang|  M| 24|   180|    80|         China|CHN|1992 Summer|1992|Summer|  Barcelona|          Basketball|Basketball Men's ...|   NA|\n",
            "|  2|            A Lamusi|  M| 23|   170|    60|         China|CHN|2012 Summer|2012|Summer|     London|                Judo|Judo Men's Extra-...|   NA|\n",
            "|  3| Gunnar Nielsen Aaby|  M| 24|    NA|    NA|       Denmark|DEN|1920 Summer|1920|Summer|  Antwerpen|            Football|Football Men's Fo...|   NA|\n",
            "|  4|Edgar Lindenau Aabye|  M| 34|    NA|    NA|Denmark/Sweden|DEN|1900 Summer|1900|Summer|      Paris|          Tug-Of-War|Tug-Of-War Men's ...| Gold|\n",
            "|  5|Christine Jacoba ...|  F| 21|   185|    82|   Netherlands|NED|1988 Winter|1988|Winter|    Calgary|       Speed Skating|Speed Skating Wom...|   NA|\n",
            "|  5|Christine Jacoba ...|  F| 21|   185|    82|   Netherlands|NED|1988 Winter|1988|Winter|    Calgary|       Speed Skating|Speed Skating Wom...|   NA|\n",
            "|  5|Christine Jacoba ...|  F| 25|   185|    82|   Netherlands|NED|1992 Winter|1992|Winter|Albertville|       Speed Skating|Speed Skating Wom...|   NA|\n",
            "|  5|Christine Jacoba ...|  F| 25|   185|    82|   Netherlands|NED|1992 Winter|1992|Winter|Albertville|       Speed Skating|Speed Skating Wom...|   NA|\n",
            "|  5|Christine Jacoba ...|  F| 27|   185|    82|   Netherlands|NED|1994 Winter|1994|Winter|Lillehammer|       Speed Skating|Speed Skating Wom...|   NA|\n",
            "|  5|Christine Jacoba ...|  F| 27|   185|    82|   Netherlands|NED|1994 Winter|1994|Winter|Lillehammer|       Speed Skating|Speed Skating Wom...|   NA|\n",
            "|  6|     Per Knut Aaland|  M| 31|   188|    75| United States|USA|1992 Winter|1992|Winter|Albertville|Cross Country Skiing|Cross Country Ski...|   NA|\n",
            "|  6|     Per Knut Aaland|  M| 31|   188|    75| United States|USA|1992 Winter|1992|Winter|Albertville|Cross Country Skiing|Cross Country Ski...|   NA|\n",
            "|  6|     Per Knut Aaland|  M| 31|   188|    75| United States|USA|1992 Winter|1992|Winter|Albertville|Cross Country Skiing|Cross Country Ski...|   NA|\n",
            "|  6|     Per Knut Aaland|  M| 31|   188|    75| United States|USA|1992 Winter|1992|Winter|Albertville|Cross Country Skiing|Cross Country Ski...|   NA|\n",
            "|  6|     Per Knut Aaland|  M| 33|   188|    75| United States|USA|1994 Winter|1994|Winter|Lillehammer|Cross Country Skiing|Cross Country Ski...|   NA|\n",
            "|  6|     Per Knut Aaland|  M| 33|   188|    75| United States|USA|1994 Winter|1994|Winter|Lillehammer|Cross Country Skiing|Cross Country Ski...|   NA|\n",
            "|  6|     Per Knut Aaland|  M| 33|   188|    75| United States|USA|1994 Winter|1994|Winter|Lillehammer|Cross Country Skiing|Cross Country Ski...|   NA|\n",
            "|  6|     Per Knut Aaland|  M| 33|   188|    75| United States|USA|1994 Winter|1994|Winter|Lillehammer|Cross Country Skiing|Cross Country Ski...|   NA|\n",
            "|  7|        John Aalberg|  M| 31|   183|    72| United States|USA|1992 Winter|1992|Winter|Albertville|Cross Country Skiing|Cross Country Ski...|   NA|\n",
            "|  7|        John Aalberg|  M| 31|   183|    72| United States|USA|1992 Winter|1992|Winter|Albertville|Cross Country Skiing|Cross Country Ski...|   NA|\n",
            "+---+--------------------+---+---+------+------+--------------+---+-----------+----+------+-----------+--------------------+--------------------+-----+\n",
            "only showing top 20 rows\n",
            "\n"
          ]
        }
      ],
      "source": [
        "# Read in data from S3 Buckets\n",
        "from pyspark import SparkFiles\n",
        "url = \"https://2u-data-curriculum-team.s3.amazonaws.com/dataviz-classroom/v1.2/22-big-data/2/athlete_events.csv\"\n",
        "spark.sparkContext.addFile(url)\n",
        "df = spark.read.csv(SparkFiles.get(\"athlete_events.csv\"), header=True, inferSchema=True, quote=\"\\\"\", escape=\"\\\"\")\n",
        "\n",
        "# Show DataFrame\n",
        "df.show()\n"
      ]
    },
    {
      "cell_type": "code",
      "execution_count": 4,
      "metadata": {
        "id": "3_hMkh2sT8jm"
      },
      "outputs": [],
      "source": [
        "#Create a temporary view.\n",
        "df.createOrReplaceTempView('games')\n"
      ]
    },
    {
      "cell_type": "code",
      "execution_count": 5,
      "metadata": {
        "colab": {
          "base_uri": "https://localhost:8080/"
        },
        "id": "XUJVk6fQYTyy",
        "outputId": "4dd500c5-9f8b-47c1-9aad-78a3d2c51c2c"
      },
      "outputs": [
        {
          "output_type": "stream",
          "name": "stdout",
          "text": [
            "+---------------------+\n",
            "|count(DISTINCT sport)|\n",
            "+---------------------+\n",
            "|                   34|\n",
            "+---------------------+\n",
            "\n"
          ]
        }
      ],
      "source": [
        "# Get the number of distinct sports played in 2016\n",
        "spark.sql(\"SELECT count(distinct sport) FROM games WHERE year=2016\").show()\n"
      ]
    },
    {
      "cell_type": "code",
      "execution_count": 6,
      "metadata": {
        "colab": {
          "base_uri": "https://localhost:8080/"
        },
        "id": "tXyNWna1ci1v",
        "outputId": "d1404204-1ba1-45fe-82cb-2eb71943e1f1"
      },
      "outputs": [
        {
          "output_type": "stream",
          "name": "stdout",
          "text": [
            "+---------------------+\n",
            "|count(DISTINCT sport)|\n",
            "+---------------------+\n",
            "|                   32|\n",
            "+---------------------+\n",
            "\n"
          ]
        }
      ],
      "source": [
        "# Get the number of distinct sports played in 2012\n",
        "spark.sql(\"SELECT count(distinct sport) FROM games WHERE year=2012\").show()\n"
      ]
    },
    {
      "cell_type": "code",
      "execution_count": 7,
      "metadata": {
        "colab": {
          "base_uri": "https://localhost:8080/"
        },
        "id": "gmuokNVHe_SH",
        "outputId": "ac0c3aa0-7979-45c1-b6e2-bebf04c90c49"
      },
      "outputs": [
        {
          "output_type": "stream",
          "name": "stdout",
          "text": [
            "+------------+\n",
            "|       sport|\n",
            "+------------+\n",
            "|        Golf|\n",
            "|Rugby Sevens|\n",
            "+------------+\n",
            "\n"
          ]
        }
      ],
      "source": [
        "# Write a subquery to get the distinct sports played in 2016 but not in 2012.\n",
        "spark.sql(\"\"\"\n",
        "    SELECT DISTINCT sport\n",
        "    FROM games\n",
        "    WHERE year=2016 AND sport NOT IN\n",
        "      (SELECT DISTINCT sport\n",
        "      FROM games\n",
        "      WHERE year=2012)\n",
        "    \"\"\").show()\n"
      ]
    },
    {
      "cell_type": "code",
      "execution_count": 8,
      "metadata": {
        "colab": {
          "base_uri": "https://localhost:8080/"
        },
        "id": "Nclw6gcIdcAG",
        "outputId": "9475b730-355d-4629-9b22-3c170e55fe33"
      },
      "outputs": [
        {
          "output_type": "stream",
          "name": "stdout",
          "text": [
            "+------------+\n",
            "|       sport|\n",
            "+------------+\n",
            "|        Golf|\n",
            "|Rugby Sevens|\n",
            "+------------+\n",
            "\n"
          ]
        }
      ],
      "source": [
        "# Another option could be using an EXCEPT\n",
        "spark.sql(\"\"\"\n",
        "    SELECT DISTINCT sport\n",
        "    FROM games\n",
        "    WHERE year=2016\n",
        "    EXCEPT\n",
        "        SELECT\n",
        "      distinct\n",
        "      sport\n",
        "    FROM games\n",
        "    WHERE year=2012\n",
        "    \"\"\").show()\n"
      ]
    },
    {
      "cell_type": "code",
      "execution_count": 9,
      "metadata": {
        "colab": {
          "base_uri": "https://localhost:8080/"
        },
        "id": "Y1edN4Jlfack",
        "outputId": "753f0bf0-8b5f-4ff1-82a8-b016c602b38c"
      },
      "outputs": [
        {
          "output_type": "stream",
          "name": "stdout",
          "text": [
            "+---------+\n",
            "|min(year)|\n",
            "+---------+\n",
            "|     1896|\n",
            "+---------+\n",
            "\n"
          ]
        }
      ],
      "source": [
        "# Get the year of the earliest Olympics in our data\n",
        "spark.sql(\"\"\"SELECT min(year) FROM games\"\"\").show()\n"
      ]
    },
    {
      "cell_type": "code",
      "execution_count": 10,
      "metadata": {
        "colab": {
          "base_uri": "https://localhost:8080/"
        },
        "id": "av4Lem9VhKh8",
        "outputId": "448757a0-9944-4c6c-c7b0-6588cfc3bedb"
      },
      "outputs": [
        {
          "output_type": "stream",
          "name": "stdout",
          "text": [
            "+-------------+\n",
            "|        sport|\n",
            "+-------------+\n",
            "|   Gymnastics|\n",
            "|       Tennis|\n",
            "|     Swimming|\n",
            "|    Athletics|\n",
            "|     Shooting|\n",
            "|    Wrestling|\n",
            "|Weightlifting|\n",
            "|      Cycling|\n",
            "|      Fencing|\n",
            "+-------------+\n",
            "\n"
          ]
        }
      ],
      "source": [
        "# Get the sports that were played in the earliest Olympic games in our data\n",
        "spark.sql(\"\"\"\n",
        "      SELECT\n",
        "      DISTINCT sport\n",
        "      FROM games\n",
        "      WHERE year=1896\"\"\").show()\n"
      ]
    },
    {
      "cell_type": "code",
      "execution_count": 11,
      "metadata": {
        "colab": {
          "base_uri": "https://localhost:8080/"
        },
        "id": "nUqJkqWzhZ67",
        "outputId": "32844f5c-296b-4bdc-c5aa-e89b18b29f23"
      },
      "outputs": [
        {
          "output_type": "stream",
          "name": "stdout",
          "text": [
            "+-------------+\n",
            "|        sport|\n",
            "+-------------+\n",
            "|   Gymnastics|\n",
            "|       Tennis|\n",
            "|     Swimming|\n",
            "|    Athletics|\n",
            "|     Shooting|\n",
            "|    Wrestling|\n",
            "|Weightlifting|\n",
            "|      Cycling|\n",
            "|      Fencing|\n",
            "+-------------+\n",
            "\n"
          ]
        }
      ],
      "source": [
        "# Determine which sports were in both the 1896 Olympics and the 2016 Olympics\n",
        "spark.sql(\"\"\"\n",
        "  SELECT\n",
        "    DISTINCT\n",
        "      a.sport\n",
        "  FROM games a\n",
        "    JOIN\n",
        "        (SELECT DISTINCT sport FROM games WHERE year=1896) b\n",
        "    ON\n",
        "      a.sport=b.sport\n",
        "  WHERE a.year=2016\"\"\").show()\n"
      ]
    },
    {
      "cell_type": "code",
      "execution_count": 12,
      "metadata": {
        "colab": {
          "base_uri": "https://localhost:8080/"
        },
        "id": "fUDuMDVjjQcy",
        "outputId": "90989e7c-902a-4d54-82a5-879c836f099e"
      },
      "outputs": [
        {
          "output_type": "stream",
          "name": "stdout",
          "text": [
            "+----------------------------------+-----+----------+\n",
            "|Name                              |medal|medalCount|\n",
            "+----------------------------------+-----+----------+\n",
            "|Michael Fred Phelps, II           |Gold |23        |\n",
            "|Raymond Clarence \"Ray\" Ewry       |Gold |10        |\n",
            "|Frederick Carlton \"Carl\" Lewis    |Gold |9         |\n",
            "|Larysa Semenivna Latynina (Diriy-)|Gold |9         |\n",
            "|Mark Andrew Spitz                 |Gold |9         |\n",
            "+----------------------------------+-----+----------+\n",
            "\n"
          ]
        }
      ],
      "source": [
        "# Who are the top 5 Gold medal winners in the Olympics\n",
        "spark.sql(\"\"\"\n",
        "SELECT\n",
        "  Name,\n",
        "  medal,\n",
        "  count(*) as medalCount\n",
        "FROM games\n",
        "WHERE medal ='Gold' GROUP BY Name, medal\n",
        "ORDER BY medalCount desc\n",
        "LIMIT 5\n",
        "\"\"\").show(truncate=False)\n"
      ]
    },
    {
      "cell_type": "code",
      "execution_count": 13,
      "metadata": {
        "colab": {
          "base_uri": "https://localhost:8080/"
        },
        "id": "dCoDsurkP7Q3",
        "outputId": "02815346-dc7c-494e-e0d6-d08873c8bc22"
      },
      "outputs": [
        {
          "output_type": "stream",
          "name": "stdout",
          "text": [
            "+-------------------------------+------+----------+\n",
            "|Name                           |medal |medalCount|\n",
            "+-------------------------------+------+----------+\n",
            "|Shirley Frances Babashoff      |Silver|6         |\n",
            "|Aleksandr Nikolayevich Dityatin|Silver|6         |\n",
            "|Aleksandr Vladimirovich Popov  |Silver|6         |\n",
            "|Mikhail Yakovlevich Voronin    |Silver|6         |\n",
            "|Yang Yang                      |Silver|6         |\n",
            "+-------------------------------+------+----------+\n",
            "\n"
          ]
        }
      ],
      "source": [
        "# Who are the top 5 Silver medal winners\n",
        "spark.sql(\"\"\"\n",
        "SELECT\n",
        "  Name,\n",
        "  medal,\n",
        "  count(*) as medalCount\n",
        "FROM games\n",
        "WHERE medal ='Silver' GROUP BY Name, medal\n",
        "ORDER BY medalCount desc\n",
        "LIMIT 5\n",
        "\"\"\").show(truncate=False)\n"
      ]
    },
    {
      "cell_type": "code",
      "execution_count": 14,
      "metadata": {
        "colab": {
          "base_uri": "https://localhost:8080/"
        },
        "id": "GNdWgmuwRw8A",
        "outputId": "82ee8e9a-5373-4bea-c4e7-ee016f3b52c8"
      },
      "outputs": [
        {
          "output_type": "stream",
          "name": "stdout",
          "text": [
            "+------------------------+------+----------+\n",
            "|Name                    |medal |medalCount|\n",
            "+------------------------+------+----------+\n",
            "|Harri Tapani Kirvesniemi|Bronze|6         |\n",
            "|Heikki Ilmari Savolainen|Bronze|6         |\n",
            "|Merlene Joyce Ottey-Page|Bronze|6         |\n",
            "|Franziska van Almsick   |Bronze|6         |\n",
            "|Aleksey Yuryevich Nemov |Bronze|6         |\n",
            "+------------------------+------+----------+\n",
            "\n"
          ]
        }
      ],
      "source": [
        "# Who are the top 5 Bronze medal winners\n",
        "spark.sql(\"\"\"\n",
        "SELECT\n",
        "  Name,\n",
        "  medal,\n",
        "  count(*) as medalCount\n",
        "FROM games\n",
        "WHERE medal ='Bronze' GROUP BY Name, medal\n",
        "ORDER BY medalCount desc\n",
        "LIMIT 5\n",
        "\"\"\").show(truncate=False)\n"
      ]
    },
    {
      "cell_type": "code",
      "execution_count": 15,
      "metadata": {
        "id": "8M9WPLOiSOWm"
      },
      "outputs": [],
      "source": [
        "import pandas as pd\n",
        "\n",
        "pandas_df=spark.sql(\"\"\"\n",
        "SELECT\n",
        "  Name,\n",
        "  medal,\n",
        "  count(*) as medalCount\n",
        "FROM games\n",
        "WHERE medal ='Gold' GROUP BY Name, medal\n",
        "ORDER BY medalCount desc\n",
        "LIMIT 5\n",
        "\"\"\").toPandas()\n",
        "\n",
        "pandas_df.to_csv('top5Gold.csv')\n"
      ]
    },
    {
      "cell_type": "code",
      "execution_count": 15,
      "metadata": {
        "id": "JfaKSZ-PTTMR"
      },
      "outputs": [],
      "source": []
    }
  ],
  "metadata": {
    "colab": {
      "provenance": []
    },
    "kernelspec": {
      "display_name": "Python 3 (ipykernel)",
      "language": "python",
      "name": "python3"
    },
    "language_info": {
      "codemirror_mode": {
        "name": "ipython",
        "version": 3
      },
      "file_extension": ".py",
      "mimetype": "text/x-python",
      "name": "python",
      "nbconvert_exporter": "python",
      "pygments_lexer": "ipython3",
      "version": "3.10.4"
    }
  },
  "nbformat": 4,
  "nbformat_minor": 0
}